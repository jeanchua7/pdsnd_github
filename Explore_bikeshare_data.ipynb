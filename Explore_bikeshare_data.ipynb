{
 "cells": [
  {
   "cell_type": "markdown",
   "metadata": {},
   "source": [
    "### Explore Bike Share Data\n",
    "\n",
    "For this project, your goal is to ask and answer three questions about the available bikeshare data from Washington, Chicago, and New York.  This notebook can be submitted directly through the workspace when you are confident in your results.\n",
    "\n",
    "You will be graded against the project [Rubric](https://review.udacity.com/#!/rubrics/2508/view) by a mentor after you have submitted.  To get you started, you can use the template below, but feel free to be creative in your solutions!"
   ]
  },
  {
   "cell_type": "code",
   "execution_count": null,
   "metadata": {},
   "outputs": [
    {
     "name": "stderr",
     "output_type": "stream",
     "text": [
      "\n",
      "Attaching package: ‘dplyr’\n",
      "\n",
      "The following objects are masked from ‘package:stats’:\n",
      "\n",
      "    filter, lag\n",
      "\n",
      "The following objects are masked from ‘package:base’:\n",
      "\n",
      "    intersect, setdiff, setequal, union\n",
      "\n",
      "\n",
      "Attaching package: ‘lubridate’\n",
      "\n",
      "The following object is masked from ‘package:base’:\n",
      "\n",
      "    date\n",
      "\n"
     ]
    }
   ],
   "source": [
    "library(ggplot2)\n",
    "library(dplyr)\n",
    "library(lubridate)\n",
    "# library(xts)\n",
    "\n",
    "ny = read.csv('new_york_city.csv')\n",
    "wash = read.csv('washington.csv')\n",
    "chi = read.csv('chicago.csv')"
   ]
  },
  {
   "cell_type": "code",
   "execution_count": null,
   "metadata": {},
   "outputs": [],
   "source": [
    "head(ny)"
   ]
  },
  {
   "cell_type": "code",
   "execution_count": null,
   "metadata": {},
   "outputs": [],
   "source": [
    "head(wash)"
   ]
  },
  {
   "cell_type": "code",
   "execution_count": null,
   "metadata": {},
   "outputs": [],
   "source": [
    "head(chi)"
   ]
  },
  {
   "cell_type": "code",
   "execution_count": null,
   "metadata": {},
   "outputs": [],
   "source": [
    "typeof(chi$Start.Time)"
   ]
  },
  {
   "cell_type": "code",
   "execution_count": null,
   "metadata": {},
   "outputs": [],
   "source": [
    "# library(tidyr)\n",
    "# library(dplyr)\n",
    "\n",
    "# New York Data Wrangling\n",
    "ny$S.Date <- as.Date(ny$Start.Time)\n",
    "ny$S.Time <- format(as.POSIXct(ny$Start.Time) ,format = \"%H:%M:%S\") \n",
    "ny$S.Month <- months(as.Date(ny$S.Date))\n",
    "ny$S.Hour <- format(strptime(ny$S.Time, \"%H:%M:%S\"), \"%H\")\n",
    "\n",
    "\n",
    "# Chicago Data Wrangling\n",
    "chi$S.Date <- as.Date(chi$Start.Time)\n",
    "chi$S.Time <- format(as.POSIXct(chi$Start.Time) ,format = \"%H:%M:%S\") \n",
    "chi$S.Month <- months(as.Date(chi$S.Date))\n",
    "chi$S.Hour <- format(strptime(chi$S.Time, \"%H:%M:%S\"), \"%H\")\n",
    "\n",
    "# # Washington Data Wrangling\n",
    "# wash$S.Date <- as.Date(wash$Start.Time)\n",
    "# wash$S.Time <- format(as.POSIXct(wash$Start.Time) ,format = \"%H:%M:%S\") \n",
    "# wash$S.Month <- months(as.Date(wash$S.Date))"
   ]
  },
  {
   "cell_type": "code",
   "execution_count": null,
   "metadata": {},
   "outputs": [],
   "source": [
    "head(ny)"
   ]
  },
  {
   "cell_type": "code",
   "execution_count": null,
   "metadata": {},
   "outputs": [],
   "source": [
    "# date=separate(ny, Start.Time, sep = \"-\", into = c(\"year\", \"month\", \"day\"), convert = FALSE)\n",
    "# month=as.numeric(as.character(Date$month))\n",
    "\n",
    "# # Separate NY Start.Time\n",
    "# ny_hours <- format(as.POSIXct(strptime(ny$Start.Time,\"%Y-%m-%d %H:%M:%S\",tz=\"\")) ,format=\"%H\")\n",
    "# ny_months <- format(as.POSIXct(strptime(ny$Start.Time,\"%Y-%m-%d %H:%M:%S\",tz=\"\")) ,format=\"%m\")\n",
    "# ny_day <- format(as.POSIXct(strptime(ny$Start.Time,\"%Y-%m-%d %H:%M:%S\",tz=\"\")) ,format=\"%d\")\n",
    "\n",
    "# # Separate CHI Start.Time\n",
    "# chi_hours <- format(as.POSIXct(strptime(chi$Start.Time,\"%Y-%m-%d %H:%M:%S\",tz=\"\")) ,format=\"%H\")\n",
    "# chi_months <- format(as.POSIXct(strptime(chi$Start.Time,\"%Y-%m-%d %H:%M:%S\",tz=\"\")) ,format=\"%m\")\n",
    "# chi_day <- format(as.POSIXct(strptime(chi$Start.Time,\"%Y-%m-%d %H:%M:%S\",tz=\"\")) ,format=\"%d\")\n",
    "\n",
    "# # Separate WASH Start.Time\n",
    "# wash_hours <- format(as.POSIXct(strptime(wash$Start.Time,\"%Y-%m-%d %H:%M:%S\",tz=\"\")) ,format=\"%H\")\n",
    "# wash_months <- format(as.POSIXct(strptime(wash$Start.Time,\"%Y-%m-%d %H:%M:%S\",tz=\"\")) ,format=\"%m\")\n",
    "# wash_day <- format(as.POSIXct(strptime(wash$Start.Time,\"%Y-%m-%d %H:%M:%S\",tz=\"\")) ,format=\"%d\")\n"
   ]
  },
  {
   "cell_type": "code",
   "execution_count": null,
   "metadata": {},
   "outputs": [],
   "source": [
    "head(chi)"
   ]
  },
  {
   "cell_type": "code",
   "execution_count": null,
   "metadata": {},
   "outputs": [],
   "source": [
    "# qplot(x=month, data=ny)\n",
    "library(lubridate)"
   ]
  },
  {
   "cell_type": "markdown",
   "metadata": {},
   "source": [
    "### Question 1\n",
    "\n",
    "\n",
    "(a) Are there seasonal trends in terms of when is the most popular period that has a high volume of bike rental? We want to see if there are specific months, days and times where people tend to rent bikes the most, so that we can design pricing strategies that can help to maximize utilization. E.g. during off peak periods, we can offer lower rates to incentivize people to use bikes during then.\n",
    "\n",
    "(b) Do users tend to rent bikes for longer / shorter durations during the peak months? Are there are differences in terms of the rental duration across months?"
   ]
  },
  {
   "cell_type": "code",
   "execution_count": null,
   "metadata": {},
   "outputs": [],
   "source": [
    "# ggplot(data=ny, aes(x=month(S.Date)))\n",
    "# qplot(month(S.Date), data=ny, fill=as.factor(year(S.Date)), geom=\"bar\", xlab=\"Months\", ylab=\"Number of rental\") + labs(fill=\"Year of rental\")\n",
    "\n",
    "# prepare temporary data frame (ny1) to display ordered months in x axis\n",
    "ny1 <- ny %>% mutate(S.Month = factor(S.Month, \n",
    "                    levels = c(\"January\", \"February\", \"March\", \"April\", \n",
    "                               \"May\", \"June\", \"July\", \"August\", \n",
    "                               \"September\", \"October\", \"November\", \"December\"),\n",
    "                    ordered = TRUE))\n",
    "\n",
    "chi1 <- chi %>% mutate(S.Month = factor(S.Month, \n",
    "                    levels = c(\"January\", \"February\", \"March\", \"April\", \n",
    "                               \"May\", \"June\", \"July\", \"August\", \n",
    "                               \"September\", \"October\", \"November\", \"December\"),\n",
    "                    ordered = TRUE))\n",
    "\n",
    "ny_rental_months_plot <- qplot(S.Month, data=ny1, fill=as.factor(year(S.Date)), \n",
    "                               geom=\"bar\", xlab=\"Month\", ylab=\"Number of rentals\", \n",
    "                               main=\"New York - Bike Rentals by Months\", colour=I(\"red\")) + \n",
    "                               labs(fill=\"Year of rental\")\n",
    "\n",
    "chi_rental_months_plot <- qplot(S.Month, data=chi1, fill=as.factor(year(S.Date)), \n",
    "                               geom=\"bar\", xlab=\"Month\", ylab=\"Number of rentals\", \n",
    "                               main=\"Chicago - Bike Rentals by Months\", colour=I(\"blue\")) + \n",
    "                               labs(fill=\"Year of rental\")\n"
   ]
  },
  {
   "cell_type": "code",
   "execution_count": null,
   "metadata": {},
   "outputs": [],
   "source": [
    "library(gtable)\n",
    "library(grid)\n",
    "\n",
    "rental_months_plots <- list(ny_rental_months_plot, chi_rental_months_plot)\n",
    "rental_months_grobs = lapply(rental_months_plots, ggplotGrob)\n",
    "g = do.call(rbind, c(rental_months_grobs, size=\"first\"))\n",
    "\n",
    "g$widths = do.call(unit.pmax, lapply(rental_months_grobs, \"[[\", \"widths\"))\n",
    "grid.newpage()\n",
    "grid.draw(g)"
   ]
  },
  {
   "cell_type": "markdown",
   "metadata": {},
   "source": [
    "Both cities seem to have the same trends in terms of the volume of rentals across the months, with an uptake from April onwards, and June having the most no. of bike rentals. This may suggest that consumers across cities have similar consumption behaviors, as well as similar effects of e.g. any marketing or promotion efforts.\n",
    "\n",
    "With more data for the upcoming years being plotted in the same way, we can observe whether these trends are seasonal - for instance, whether June is a peak period given that it is the start of the summer period. This allows us to drive greater campaigns for the off-peak months (Jan - Mar), where it is likely to be the winter period. We can still encourage users to rent bikes with increased discounts for short periods, with the expectation that they are likely to only travel short distances.\n",
    "\n",
    "Comparing both cities, we can also infer that NYC has a way larger volume of bike rentals."
   ]
  },
  {
   "cell_type": "code",
   "execution_count": null,
   "metadata": {},
   "outputs": [],
   "source": [
    "summary(ny1)"
   ]
  },
  {
   "cell_type": "code",
   "execution_count": null,
   "metadata": {},
   "outputs": [],
   "source": [
    "head(ny1)"
   ]
  },
  {
   "cell_type": "code",
   "execution_count": null,
   "metadata": {},
   "outputs": [],
   "source": [
    "#Plotting the trip duration across months and focusing on the main bulk of our users by limiting the axis \n",
    "ggplot(ny1, aes(S.Month, Trip.Duration/60)) + \n",
    "  geom_boxplot () +\n",
    "  ylim(c(0, 20)) +\n",
    "  xlab('Month') + \n",
    "  ylab('Trip Duration (Minutes)') +   \n",
    "  stat_summary(fun.y = \"mean\", geom = \"point\", size = 5, color = \"orange\", shape = 10)\n"
   ]
  },
  {
   "cell_type": "markdown",
   "metadata": {},
   "source": [
    "This shows us that despite the trends in volume of bike rentals across months, the trip duration does not really fluctuate with the seasons / months. This is reflected by the median trip duration, which hovers around 7 to 8 minutes. The mean is close to the median, and the spread is also relatively consistent across the months, which suggests that user behaviors are relatively consistent in terms of the duration of which they rent bikes.\n"
   ]
  },
  {
   "cell_type": "markdown",
   "metadata": {},
   "source": [
    "### Question 2\n",
    "\n",
    "What are the counts of each gender (only available for NYC and Chicago)?"
   ]
  },
  {
   "cell_type": "code",
   "execution_count": null,
   "metadata": {},
   "outputs": [],
   "source": [
    "# We first summarise our existing dataset by separating the genders and counting them through the various months.\n",
    "ny_gender_df <- ny1 %>% group_by(Gender, User.Type) %>% summarise(Gender.Count=n())\n",
    "chi_gender_df <- chi1 %>% group_by(Gender, User.Type) %>% summarise(Gender.Count=n())\n",
    "\n",
    "ny_gender_df[!(is.na(ny_gender_df$User.Type) | ny_gender_df$User.Type==\"\"), ]\n",
    "chi_gender_df[!(is.na(chi_gender_df$User.Type) | chi_gender_df$User.Type==\"\"), ]"
   ]
  },
  {
   "cell_type": "code",
   "execution_count": null,
   "metadata": {},
   "outputs": [],
   "source": [
    "# We populate the blank fields and replace them as \"NA\"\n",
    "ny_gender_df$Gender[ny_gender_df$Gender == \"\"] <- NA\n",
    "chi_gender_df$Gender[chi_gender_df$Gender == \"\"] <- NA\n",
    "# ny_gender_df[is.na(ny_gender_df)] <- \"Not specified\""
   ]
  },
  {
   "cell_type": "code",
   "execution_count": null,
   "metadata": {},
   "outputs": [],
   "source": [
    "# Notice that there are user data points where gender is not specified (blank)\n",
    "ny_gender_df\n",
    "chi_gender_df"
   ]
  },
  {
   "cell_type": "code",
   "execution_count": null,
   "metadata": {},
   "outputs": [],
   "source": [
    "ny_gender_plot <-\n",
    "    ggplot(data=ny_gender_df, aes(x=User.Type, y=Gender.Count, fill=Gender)) +\n",
    "        geom_bar(stat=\"identity\", position=position_dodge()) + \n",
    "        xlab('Customer/Subscriber') + \n",
    "        ylab('Number of rentals') +\n",
    "        ggtitle('New York - Bike Rentals, Customer/Subscriber')\n",
    "\n",
    "chi_gender_plot <-\n",
    "    ggplot(data=chi_gender_df, aes(x=User.Type, y=Gender.Count, fill=Gender)) +\n",
    "        geom_bar(stat=\"identity\", position=position_dodge()) + \n",
    "        xlab('Customer/Subscriber') + \n",
    "        ylab('Number of rentals') +\n",
    "        ggtitle('Chicago - Bike Rentals, Customer/Subscriber')\n"
   ]
  },
  {
   "cell_type": "code",
   "execution_count": null,
   "metadata": {},
   "outputs": [],
   "source": [
    "library(gtable)\n",
    "library(grid)\n",
    "\n",
    "gender_count_plots <- list(ny_gender_plot, chi_gender_plot)\n",
    "gender_count_grobs = lapply(gender_count_plots, ggplotGrob)\n",
    "g = do.call(rbind, c(gender_count_grobs, size=\"first\"))\n",
    "\n",
    "g$widths = do.call(unit.pmax, lapply(gender_count_grobs, \"[[\", \"widths\"))\n",
    "grid.newpage()\n",
    "grid.draw(g)"
   ]
  },
  {
   "cell_type": "markdown",
   "metadata": {},
   "source": [
    "For both New York and Chicago, we can see that there is more than twice the amount of male subscribers. This is indicative of consumer behavior, where males tend to rent bikes more than females, which may suggest that we can work towards changing female consumers' perception towards riding bikes. Should we decide to expand our target market to include more female consumers, we can also review our branding to ensure that it appeals to both genders, and that it does not look to male-centric. An example would be working with a female fashion brand, which can help to feature our bikes in their fashion advertisements as well as offer an exclusive promotion for its customers, which can help to generate brand recall when their consumers come across our bikes and decide to try it out.\n",
    "\n",
    "We can also look to converting customers for subscribers - there is close to 2000 customers for Chicago and 5000 for New York. Converting them may also allow us to gather more data, as we noticed that customers tend not to indicate their gender."
   ]
  },
  {
   "cell_type": "code",
   "execution_count": null,
   "metadata": {},
   "outputs": [],
   "source": [
    "# We first summarise our existing dataset by separating the genders and counting them through the various months.\n",
    "ny_gender_df <- ny1 %>% group_by(Gender, S.Month) %>% summarise(Gender.Count=n())\n",
    "chi_gender_df <- chi1 %>% group_by(Gender, S.Month) %>% summarise(Gender.Count=n())\n",
    "\n",
    "ny_gender_df[!(is.na(ny_gender_df$S.Month) | ny_gender_df$S.Month==\"\"), ]\n",
    "chi_gender_df[!(is.na(chi_gender_df$S.Month) | chi_gender_df$S.Month==\"\"), ]"
   ]
  },
  {
   "cell_type": "code",
   "execution_count": null,
   "metadata": {},
   "outputs": [],
   "source": [
    "ny_gender_df$Gender[ny_gender_df$Gender == \"\"] <- NA\n",
    "chi_gender_df$Gender[chi_gender_df$Gender == \"\"] <- NA"
   ]
  },
  {
   "cell_type": "code",
   "execution_count": null,
   "metadata": {},
   "outputs": [],
   "source": [
    "ny_gender_plot <-\n",
    "    ggplot(data=ny_gender_df, aes(x=S.Month, y=Gender.Count, fill=Gender)) +\n",
    "        geom_bar(stat=\"identity\", position=position_dodge()) + \n",
    "        xlab('Month') + \n",
    "        ylab('Number of rentals') +\n",
    "        ggtitle('New York - Bike Rentals, Month')\n",
    "\n",
    "chi_gender_plot <-\n",
    "    ggplot(data=chi_gender_df, aes(x=S.Month, y=Gender.Count, fill=Gender)) +\n",
    "        geom_bar(stat=\"identity\", position=position_dodge()) + \n",
    "        xlab('Month') + \n",
    "        ylab('Number of rentals') +\n",
    "        ggtitle('Chicago - Bike Rentals, Month')\n"
   ]
  },
  {
   "cell_type": "code",
   "execution_count": null,
   "metadata": {},
   "outputs": [],
   "source": [
    "library(gtable)\n",
    "library(grid)\n",
    "\n",
    "gender_count_plots <- list(ny_gender_plot, chi_gender_plot)\n",
    "gender_count_grobs = lapply(gender_count_plots, ggplotGrob)\n",
    "g = do.call(rbind, c(gender_count_grobs, size=\"first\"))\n",
    "\n",
    "g$widths = do.call(unit.pmax, lapply(gender_count_grobs, \"[[\", \"widths\"))\n",
    "grid.newpage()\n",
    "grid.draw(g)"
   ]
  },
  {
   "cell_type": "markdown",
   "metadata": {},
   "source": [
    "This is part of further exploration to see if there might be any trends in terms of no. of bike rentals across months and gender. This allows us to conclude that in terms of seasonal trends, they are the same for both genders."
   ]
  },
  {
   "cell_type": "markdown",
   "metadata": {},
   "source": [
    "### Question 3\n",
    "\n",
    "As part of designing a pricing strategy that will help to optimize the use of bikes in New York City due to the relatively higher cost of parking areas and limited bikes available. Identify trends in the trip duration per rental across the day."
   ]
  },
  {
   "cell_type": "code",
   "execution_count": null,
   "metadata": {},
   "outputs": [],
   "source": [
    "summary(ny)"
   ]
  },
  {
   "cell_type": "code",
   "execution_count": null,
   "metadata": {},
   "outputs": [],
   "source": [
    "ny_day_trend_plot <-\n",
    "    ggplot(aes(x = S.Hour, y = Trip.Duration/60, group = 1), data = ny) +\n",
    "      geom_jitter(alpha = 1/40,\n",
    "                  position = position_jitter(h = 0),\n",
    "                  color = 'blue') +\n",
    "      ylim(c(0, 100)) +\n",
    "      xlab('Time of the Day (Hour)') +\n",
    "      ylab('Trip Duration (Minutes)') +\n",
    "      ggtitle('New York - Trends in Rental Duration Across the Day') +\n",
    "      stat_summary(geom = \"line\", fun.y = \"mean\")\n",
    "#       geom_line(stat = 'summary', fun.y = quantile, fun.args=list(probs = 0.1),\n",
    "#         aes(linetype = 2), color = 'blue') +\n",
    "#       geom_line(stat = 'summary', fun.y = quantile, fun.args=list(probs = 0.5),\n",
    "#         color = 'blue') +\n",
    "#       geom_line(stat = 'summary', fun.y = quantile, fun.args=list(probs = 0.9),\n",
    "#         aes(linetype = 2), color = 'blue')\n",
    "\n",
    "chi_day_trend_plot <-\n",
    "    ggplot(aes(x = S.Hour, y = Trip.Duration/60, group = 1), data = chi) +\n",
    "      geom_jitter(alpha = 1/40,\n",
    "                  position = position_jitter(h = 0),\n",
    "                  color = 'dark green') +\n",
    "      ylim(c(0, 100)) +\n",
    "      xlab('Time of the Day (Hour)') +\n",
    "      ylab('Trip Duration (Minutes)') +\n",
    "      ggtitle('Chicago - Trends in Rental Duration Across the Day') +\n",
    "      stat_summary(geom = \"line\", fun.y = \"mean\") \n",
    "      stat_summary(geom = \"line\", fun.y = \"median\") \n"
   ]
  },
  {
   "cell_type": "code",
   "execution_count": null,
   "metadata": {},
   "outputs": [],
   "source": [
    "day_trend_plots <- list(ny_day_trend_plot, chi_day_trend_plot)\n",
    "day_trend_grobs = lapply(day_trend_plots, ggplotGrob)\n",
    "g = do.call(rbind, c(day_trend_grobs, size=\"first\"))\n",
    "\n",
    "g$widths = do.call(unit.pmax, lapply(day_trend_grobs, \"[[\", \"widths\"))\n",
    "grid.newpage()\n",
    "grid.draw(g)"
   ]
  },
  {
   "cell_type": "markdown",
   "metadata": {},
   "source": [
    "From the scatterplot, we can observe that the peak periods for New York tends to be between 8:00 to 10:00, and 17:00 to 19:00, which corresponds to the times that people generally go to work / return home. Looking at the density of the dots, we can see that these are usually trips that take less than 25 minutes. We can charge based on 15-minute intervals or less, which would then allow people to return the bikes within this time frame, thereby allowing for more people to use the bike within this 2-hour period.\n",
    "\n",
    "For Chicago, on the other hand, the peak period tends to be over a shorter window; mostly 7:00 to 8:00 (1 hour) and 17:00. The corresponding trip durations, when compared to New York, also indicates that the trips tend to be shorter than 25 minutes. Simimlarly, we can come up with lower pricing for the off peak periods, such as before 07:00, between 09:00 and 15:00, and after 19:00.\n",
    "\n",
    "Looking at the average trip duration, we can see that it is relatively consistent throughout the day for New York as compared to Chicago, where there are more spikes for certain periods e.g. 1100, 1400. In addition, the average trip duration does not exceed 25 minutes. This allows us to understand user behaviors better in terms of how long they will usually need a bike for, and we can tailor our pricing to provide added value  e.g. instead of charging based on 60 in intervals, we may want to charge by 30 minute intervals to encourage users who may not have previously rented bikes because they feel that they are overpaying for the rental."
   ]
  },
  {
   "cell_type": "markdown",
   "metadata": {},
   "source": [
    "\n",
    "## Finishing Up\n",
    "\n",
    "> Congratulations!  You have reached the end of the Explore Bikeshare Data Project. You should be very proud of all you have accomplished!\n",
    "\n",
    "> **Tip**: Once you are satisfied with your work here, check over your report to make sure that it is satisfies all the areas of the [rubric](https://review.udacity.com/#!/rubrics/2508/view). \n",
    "\n",
    "\n",
    "## Directions to Submit\n",
    "\n",
    "> Before you submit your project, you need to create a .html or .pdf version of this notebook in the workspace here. To do that, run the code cell below. If it worked correctly, you should get a return code of 0, and you should see the generated .html file in the workspace directory (click on the orange Jupyter icon in the upper left).\n",
    "\n",
    "> Alternatively, you can download this report as .html via the **File** > **Download as** submenu, and then manually upload it into the workspace directory by clicking on the orange Jupyter icon in the upper left, then using the Upload button.\n",
    "\n",
    "> Once you've done this, you can submit your project by clicking on the \"Submit Project\" button in the lower right here. This will create and submit a zip file with this .ipynb doc and the .html or .pdf version you created. Congratulations!"
   ]
  },
  {
   "cell_type": "code",
   "execution_count": null,
   "metadata": {},
   "outputs": [],
   "source": [
    "system('python -m nbconvert Explore_bikeshare_data.ipynb')"
   ]
  }
 ],
 "metadata": {
  "kernelspec": {
   "display_name": "R",
   "language": "R",
   "name": "ir"
  },
  "language_info": {
   "codemirror_mode": "r",
   "file_extension": ".r",
   "mimetype": "text/x-r-source",
   "name": "R",
   "pygments_lexer": "r",
   "version": "3.5.1"
  }
 },
 "nbformat": 4,
 "nbformat_minor": 2
}
